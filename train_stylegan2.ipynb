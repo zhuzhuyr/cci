{
  "cells": [
    {
      "cell_type": "markdown",
      "metadata": {
        "id": "view-in-github",
        "colab_type": "text"
      },
      "source": [
        "<a href=\"https://colab.research.google.com/github/zhuzhuyr/cci/blob/main/train_stylegan2.ipynb\" target=\"_parent\"><img src=\"https://colab.research.google.com/assets/colab-badge.svg\" alt=\"Open In Colab\"/></a>"
      ]
    },
    {
      "cell_type": "code",
      "execution_count": null,
      "metadata": {
        "id": "3GdlQ-WBLx4A"
      },
      "outputs": [],
      "source": [
        ""
      ]
    },
    {
      "cell_type": "code",
      "execution_count": 11,
      "metadata": {
        "id": "Z1k-sdKVLz28",
        "outputId": "0491fa77-4c8d-444f-b12b-93c7cd171971",
        "colab": {
          "base_uri": "https://localhost:8080/"
        }
      },
      "outputs": [
        {
          "output_type": "stream",
          "name": "stdout",
          "text": [
            "cp: cannot stat '/content/drive/MyDrive/Colab_Notebooks/kaggle.json': No such file or directory\n"
          ]
        }
      ],
      "source": [
        "# _Download Kaggle Dataset\n",
        "# kaggle.json is the file generated from kaggle.com account setting.\n",
        "!mkdir .kaggle/\n",
        "!cp /content/drive/MyDrive/Colab_Notebooks/kaggle.json /content/.kaggle/\n",
        "!mv .kaggle /root/"
      ]
    },
    {
      "cell_type": "code",
      "execution_count": 12,
      "metadata": {
        "colab": {
          "base_uri": "https://localhost:8080/"
        },
        "id": "coDyzrSaLIOW",
        "outputId": "1e23160c-0de4-4978-bc88-7375e63600b0"
      },
      "outputs": [
        {
          "output_type": "stream",
          "name": "stdout",
          "text": [
            "Traceback (most recent call last):\n",
            "  File \"/usr/local/bin/kaggle\", line 5, in <module>\n",
            "    from kaggle.cli import main\n",
            "  File \"/usr/local/lib/python3.7/dist-packages/kaggle/__init__.py\", line 23, in <module>\n",
            "    api.authenticate()\n",
            "  File \"/usr/local/lib/python3.7/dist-packages/kaggle/api/kaggle_api_extended.py\", line 166, in authenticate\n",
            "    self.config_file, self.config_dir))\n",
            "OSError: Could not find kaggle.json. Make sure it's located in /root/.kaggle. Or use the environment method.\n"
          ]
        }
      ],
      "source": [
        "!kaggle datasets download -d balraj98/deepglobe-road-extraction-dataset"
      ]
    },
    {
      "cell_type": "code",
      "execution_count": 13,
      "metadata": {
        "id": "NjRut_5tMOAo",
        "outputId": "de4196ae-77d6-4f2a-ecb7-63696c6b9faf",
        "colab": {
          "base_uri": "https://localhost:8080/"
        }
      },
      "outputs": [
        {
          "output_type": "stream",
          "name": "stdout",
          "text": [
            "unzip:  cannot find or open /content/deepglobe-road-extraction-dataset.zip, /content/deepglobe-road-extraction-dataset.zip.zip or /content/deepglobe-road-extraction-dataset.zip.ZIP.\n"
          ]
        }
      ],
      "source": [
        "!unzip /content/deepglobe-road-extraction-dataset.zip"
      ]
    },
    {
      "cell_type": "markdown",
      "source": [
        ""
      ],
      "metadata": {
        "id": "RjwMyL1_GyD-"
      }
    },
    {
      "cell_type": "code",
      "source": [
        "import numpy as np\n",
        "import keras"
      ],
      "metadata": {
        "id": "5pu-BJnbA_MY"
      },
      "execution_count": 3,
      "outputs": []
    },
    {
      "cell_type": "code",
      "source": [
        "# _Crop images from folder and save to new folder\n",
        "\n",
        "from PIL import Image\n",
        "import numpy as np\n",
        "import os, os.path\n",
        "import matplotlib.pyplot as plt"
      ],
      "metadata": {
        "id": "dnfyty3cFDrA"
      },
      "execution_count": 14,
      "outputs": []
    },
    {
      "cell_type": "code",
      "execution_count": 15,
      "metadata": {
        "colab": {
          "base_uri": "https://localhost:8080/",
          "height": 333
        },
        "id": "iTHqAue2MUGb",
        "outputId": "844d07dc-8452-4fec-8993-6e62a216e72d"
      },
      "outputs": [
        {
          "output_type": "error",
          "ename": "FileNotFoundError",
          "evalue": "ignored",
          "traceback": [
            "\u001b[0;31m---------------------------------------------------------------------------\u001b[0m",
            "\u001b[0;31mFileNotFoundError\u001b[0m                         Traceback (most recent call last)",
            "\u001b[0;32m<ipython-input-15-d1b20e77363b>\u001b[0m in \u001b[0;36m<module>\u001b[0;34m()\u001b[0m\n\u001b[1;32m      1\u001b[0m \u001b[0;34m\u001b[0m\u001b[0m\n\u001b[0;32m----> 2\u001b[0;31m \u001b[0mimg\u001b[0m \u001b[0;34m=\u001b[0m \u001b[0mnp\u001b[0m\u001b[0;34m.\u001b[0m\u001b[0marray\u001b[0m\u001b[0;34m(\u001b[0m\u001b[0mImage\u001b[0m\u001b[0;34m.\u001b[0m\u001b[0mopen\u001b[0m\u001b[0;34m(\u001b[0m\u001b[0;34m'/content/train/100034_sat.jpg'\u001b[0m\u001b[0;34m)\u001b[0m\u001b[0;34m)\u001b[0m\u001b[0;34m\u001b[0m\u001b[0;34m\u001b[0m\u001b[0m\n\u001b[0m\u001b[1;32m      3\u001b[0m \u001b[0mimg\u001b[0m\u001b[0;34m.\u001b[0m\u001b[0mshape\u001b[0m\u001b[0;34m\u001b[0m\u001b[0;34m\u001b[0m\u001b[0m\n",
            "\u001b[0;32m/usr/local/lib/python3.7/dist-packages/PIL/Image.py\u001b[0m in \u001b[0;36mopen\u001b[0;34m(fp, mode)\u001b[0m\n\u001b[1;32m   2841\u001b[0m \u001b[0;34m\u001b[0m\u001b[0m\n\u001b[1;32m   2842\u001b[0m     \u001b[0;32mif\u001b[0m \u001b[0mfilename\u001b[0m\u001b[0;34m:\u001b[0m\u001b[0;34m\u001b[0m\u001b[0;34m\u001b[0m\u001b[0m\n\u001b[0;32m-> 2843\u001b[0;31m         \u001b[0mfp\u001b[0m \u001b[0;34m=\u001b[0m \u001b[0mbuiltins\u001b[0m\u001b[0;34m.\u001b[0m\u001b[0mopen\u001b[0m\u001b[0;34m(\u001b[0m\u001b[0mfilename\u001b[0m\u001b[0;34m,\u001b[0m \u001b[0;34m\"rb\"\u001b[0m\u001b[0;34m)\u001b[0m\u001b[0;34m\u001b[0m\u001b[0;34m\u001b[0m\u001b[0m\n\u001b[0m\u001b[1;32m   2844\u001b[0m         \u001b[0mexclusive_fp\u001b[0m \u001b[0;34m=\u001b[0m \u001b[0;32mTrue\u001b[0m\u001b[0;34m\u001b[0m\u001b[0;34m\u001b[0m\u001b[0m\n\u001b[1;32m   2845\u001b[0m \u001b[0;34m\u001b[0m\u001b[0m\n",
            "\u001b[0;31mFileNotFoundError\u001b[0m: [Errno 2] No such file or directory: '/content/train/100034_sat.jpg'"
          ]
        }
      ],
      "source": [
        "\n",
        "img = np.array(Image.open('/content/train/100034_sat.jpg'))\n",
        "img.shape"
      ]
    },
    {
      "cell_type": "code",
      "execution_count": null,
      "metadata": {
        "id": "4C15EGt8MeKr"
      },
      "outputs": [],
      "source": [
        "# _Crop images from folder and save to new folder\n",
        "\n",
        "from PIL import Image\n",
        "import numpy as np\n",
        "import os, os.path\n",
        "import matplotlib.pyplot as plt"
      ]
    },
    {
      "cell_type": "code",
      "execution_count": null,
      "metadata": {
        "id": "JrtcoR0IMeKs"
      },
      "outputs": [],
      "source": [
        "# _Crop images from folder and save to new folder\n",
        "\n",
        "imgs = []\n",
        "path = \"/content/train\"\n",
        "valid_images = [\".jpg\",\".gif\",\".png\",\".tga\"]\n",
        "size = 512\n",
        "\n",
        "for i,f in enumerate(os.listdir(path)):\n",
        "    ext = os.path.splitext(f)[1]\n",
        "    filename = os.path.splitext(f)[0]\n",
        "    if 'sat' not in filename:\n",
        "      continue\n",
        "    if ext.lower() not in valid_images:\n",
        "      continue\n",
        "    \n",
        "    img = Image.open(os.path.join(path,f))\n",
        "    w,h = img.size\n",
        "    \n",
        "    save_file_name = f'/content/train-512/{i:05}.jpg'\n",
        "    if w==h:\n",
        "        img.resize((size,size)).convert('RGB').save(save_file_name)\n",
        "    \n",
        "    elif w>h:\n",
        "        img.crop(((w-h)/2,0,(w-h)/2+h,h)).resize((size,size)).convert('RGB').save(save_file_name)\n",
        "    \n",
        "    elif h>w:\n",
        "        img.crop((0,(h-w)/2,w,(h-w)/2+w)).resize((size,size)).convert('RGB').save(save_file_name)\n",
        "        \n",
        "    if i%100==0:\n",
        "        print(i)\n",
        "    "
      ]
    },
    {
      "cell_type": "markdown",
      "metadata": {
        "id": "-5VEQpy_u4JI"
      },
      "source": [
        "## save"
      ]
    },
    {
      "cell_type": "code",
      "execution_count": null,
      "metadata": {
        "id": "w_CWtr4v2VCF"
      },
      "outputs": [],
      "source": [
        "!cp -av /content/stylegan2/results/00012-stylegan2-space-1gpu-config-d /content/drive/MyDrive/Colab_Notebooks/stylegan2-train"
      ]
    },
    {
      "cell_type": "markdown",
      "metadata": {
        "id": "2zd9dCsv7fp-"
      },
      "source": [
        "## Prepare Dataset"
      ]
    },
    {
      "cell_type": "code",
      "execution_count": null,
      "metadata": {
        "colab": {
          "base_uri": "https://localhost:8080/"
        },
        "id": "XpG15Se04WFW",
        "outputId": "d1aa463f-7ace-4f85-9c93-e424ca3afa1b"
      },
      "outputs": [
        {
          "name": "stdout",
          "output_type": "stream",
          "text": [
            "TensorFlow 1.x selected.\n"
          ]
        }
      ],
      "source": [
        "%tensorflow_version 1.x"
      ]
    },
    {
      "cell_type": "code",
      "execution_count": null,
      "metadata": {
        "colab": {
          "base_uri": "https://localhost:8080/"
        },
        "id": "XslcRlWM4iVM",
        "outputId": "3eaf216f-eca2-4c62-d94c-c4c99e2c6430"
      },
      "outputs": [
        {
          "name": "stdout",
          "output_type": "stream",
          "text": [
            "1.15.2\n",
            "True\n",
            "True\n"
          ]
        }
      ],
      "source": [
        "import tensorflow as tf\n",
        "print(tf.__version__)\n",
        "print(tf.test.is_gpu_available())\n",
        "print(tf.test.is_built_with_cuda())"
      ]
    },
    {
      "cell_type": "code",
      "execution_count": null,
      "metadata": {
        "colab": {
          "base_uri": "https://localhost:8080/"
        },
        "id": "ggO1MW1X2w6L",
        "outputId": "ef6e9115-55ec-4686-ae8d-59bb30d23287"
      },
      "outputs": [
        {
          "name": "stdout",
          "output_type": "stream",
          "text": [
            "Cloning into 'stylegan2'...\n",
            "remote: Enumerating objects: 138, done.\u001b[K\n",
            "remote: Total 138 (delta 0), reused 0 (delta 0), pack-reused 138\u001b[K\n",
            "Receiving objects: 100% (138/138), 594.91 KiB | 27.04 MiB/s, done.\n",
            "Resolving deltas: 100% (64/64), done.\n"
          ]
        }
      ],
      "source": [
        "!git clone https://github.com/NVlabs/stylegan2.git"
      ]
    },
    {
      "cell_type": "code",
      "execution_count": null,
      "metadata": {
        "id": "EYpxUnHf25Pr"
      },
      "outputs": [],
      "source": [
        "!cp -av /content/drive/MyDrive/Colab_Notebooks/manipulated_network_stylegan2/stylegan2-tf-2.x /content/"
      ]
    },
    {
      "cell_type": "code",
      "execution_count": null,
      "metadata": {
        "id": "NAXErqCT3HCW"
      },
      "outputs": [],
      "source": [
        "!unzip /content/drive/MyDrive/London/space-512-cropped.zip -d /content/stylegan2/dataset"
      ]
    },
    {
      "cell_type": "code",
      "execution_count": null,
      "metadata": {
        "colab": {
          "base_uri": "https://localhost:8080/"
        },
        "id": "TfNo5OR_3bD1",
        "outputId": "5961ba0d-1f31-44c9-e179-b16e18ab85db"
      },
      "outputs": [
        {
          "name": "stdout",
          "output_type": "stream",
          "text": [
            "/content/stylegan2\n"
          ]
        }
      ],
      "source": [
        "%cd stylegan2/"
      ]
    },
    {
      "cell_type": "code",
      "execution_count": null,
      "metadata": {
        "colab": {
          "base_uri": "https://localhost:8080/"
        },
        "id": "MZo4KVzU3uGh",
        "outputId": "ca602b31-d8a6-45b8-ac2e-29237b25094d"
      },
      "outputs": [
        {
          "name": "stdout",
          "output_type": "stream",
          "text": [
            "Loading images from \"/content/train-512\"\n",
            "Creating dataset \"/content/stylegan2/road-512\"\n",
            "0 / 6226\rdataset_tool.py:86: DeprecationWarning: tostring() is deprecated. Use tobytes() instead.\n",
            "  'data': tf.train.Feature(bytes_list=tf.train.BytesList(value=[quant.tostring()]))}))\n",
            "Added 6226 images.\n"
          ]
        }
      ],
      "source": [
        "!python dataset_tool.py create_from_images /content/stylegan2/road-512 /content/train-512\n"
      ]
    },
    {
      "cell_type": "code",
      "execution_count": null,
      "metadata": {
        "colab": {
          "base_uri": "https://localhost:8080/"
        },
        "id": "_WlrwBHFSCQQ",
        "outputId": "b6b80fa8-cde7-47b9-d567-723ddb647782"
      },
      "outputs": [
        {
          "name": "stdout",
          "output_type": "stream",
          "text": [
            "'/content/stylegan2/road-512' -> '/content/drive/MyDrive/Colab_Notebooks/stylegan2-train/road-512'\n",
            "'/content/stylegan2/road-512/road-512-r09.tfrecords' -> '/content/drive/MyDrive/Colab_Notebooks/stylegan2-train/road-512/road-512-r09.tfrecords'\n",
            "'/content/stylegan2/road-512/road-512-r08.tfrecords' -> '/content/drive/MyDrive/Colab_Notebooks/stylegan2-train/road-512/road-512-r08.tfrecords'\n",
            "'/content/stylegan2/road-512/road-512-r07.tfrecords' -> '/content/drive/MyDrive/Colab_Notebooks/stylegan2-train/road-512/road-512-r07.tfrecords'\n",
            "'/content/stylegan2/road-512/road-512-r06.tfrecords' -> '/content/drive/MyDrive/Colab_Notebooks/stylegan2-train/road-512/road-512-r06.tfrecords'\n",
            "'/content/stylegan2/road-512/road-512-r05.tfrecords' -> '/content/drive/MyDrive/Colab_Notebooks/stylegan2-train/road-512/road-512-r05.tfrecords'\n",
            "'/content/stylegan2/road-512/road-512-r04.tfrecords' -> '/content/drive/MyDrive/Colab_Notebooks/stylegan2-train/road-512/road-512-r04.tfrecords'\n",
            "'/content/stylegan2/road-512/road-512-r03.tfrecords' -> '/content/drive/MyDrive/Colab_Notebooks/stylegan2-train/road-512/road-512-r03.tfrecords'\n",
            "'/content/stylegan2/road-512/road-512-r02.tfrecords' -> '/content/drive/MyDrive/Colab_Notebooks/stylegan2-train/road-512/road-512-r02.tfrecords'\n"
          ]
        }
      ],
      "source": [
        "!cp -av /content/stylegan2/road-512 /content/drive/MyDrive/Colab_Notebooks/stylegan2-train"
      ]
    },
    {
      "cell_type": "code",
      "execution_count": null,
      "metadata": {
        "id": "oC6hIlxbCD8J"
      },
      "outputs": [],
      "source": [
        "!python run_training.py --help"
      ]
    },
    {
      "cell_type": "code",
      "execution_count": null,
      "metadata": {
        "id": "SNTtF79nIUAa"
      },
      "outputs": [],
      "source": [
        "!pip install numpy==1.19.0"
      ]
    },
    {
      "cell_type": "code",
      "execution_count": null,
      "metadata": {
        "colab": {
          "base_uri": "https://localhost:8080/"
        },
        "id": "re0jmIxYBvLy",
        "outputId": "a67a4888-894e-46e3-fed0-d3f97271afdd"
      },
      "outputs": [
        {
          "output_type": "stream",
          "name": "stdout",
          "text": [
            "Local submit - run_dir: results/00000-stylegan2-road-512-1gpu-config-e\n",
            "dnnlib: Running training.training_loop.training_loop() on localhost...\n",
            "Streaming data using training.dataset.TFRecordDataset...\n",
            "tcmalloc: large alloc 4294967296 bytes == 0x842e000 @  0x7f798f876001 0x7f798c35b67f 0x7f798c3ab978 0x7f798c3af9a7 0x7f798c44dfd3 0x593835 0x548c51 0x5127f1 0x549e0e 0x4bca8a 0x532b86 0x53786a 0x595ef6 0x5134a6 0x549576 0x4bca8a 0x5134a6 0x549576 0x4bca8a 0x5134a6 0x593dd7 0x5118f8 0x593dd7 0x511e2c 0x549576 0x4bca8a 0x5134a6 0x549576 0x4bca8a 0x5134a6 0x593dd7\n",
            "tcmalloc: large alloc 4294967296 bytes == 0x7f77b7ece000 @  0x7f798f8741e7 0x7f798c35b59e 0x7f798c3aba9b 0x7f798c3ac17f 0x7f798c44ded3 0x593835 0x548c51 0x5127f1 0x549576 0x593fce 0x548ae9 0x5127f1 0x549576 0x593fce 0x548ae9 0x5127f1 0x549576 0x593fce 0x548ae9 0x5127f1 0x593dd7 0x5118f8 0x549576 0x593fce 0x548ae9 0x51566f 0x549576 0x593fce 0x548ae9 0x5127f1 0x549e0e\n",
            "tcmalloc: large alloc 4294967296 bytes == 0x7f76b6ecc000 @  0x7f798f8741e7 0x7f798c35b59e 0x7f798c3aba9b 0x7f798c3ac17f 0x7f79493a3235 0x7f7948d26792 0x7f7948d26d42 0x7f7948cdfaee 0x59371f 0x548c51 0x51566f 0x593dd7 0x511e2c 0x549e0e 0x4bcb19 0x5134a6 0x549576 0x593fce 0x511e2c 0x549e0e 0x593fce 0x511e2c 0x593dd7 0x511e2c 0x549576 0x4bcb19 0x59c019 0x595ef6 0x5134a6 0x549576 0x593fce\n",
            "Dataset shape = [3, 512, 512]\n",
            "Dynamic range = [0, 255]\n",
            "Label size    = 0\n",
            "2022-05-20 11:50:23.906344: W tensorflow/core/framework/cpu_allocator_impl.cc:81] Allocation of 94371840 exceeds 10% of system memory.\n",
            "Constructing networks...\n",
            "Setting up TensorFlow plugin \"fused_bias_act.cu\": Preprocessing... Compiling... Loading... Done.\n",
            "Setting up TensorFlow plugin \"upfirdn_2d.cu\": Preprocessing... Compiling... Loading... Done.\n",
            "\n",
            "G                             Params    OutputShape         WeightShape     \n",
            "---                           ---       ---                 ---             \n",
            "latents_in                    -         (?, 512)            -               \n",
            "labels_in                     -         (?, 0)              -               \n",
            "lod                           -         ()                  -               \n",
            "dlatent_avg                   -         (512,)              -               \n",
            "G_mapping/latents_in          -         (?, 512)            -               \n",
            "G_mapping/labels_in           -         (?, 0)              -               \n",
            "G_mapping/Normalize           -         (?, 512)            -               \n",
            "G_mapping/Dense0              262656    (?, 512)            (512, 512)      \n",
            "G_mapping/Dense1              262656    (?, 512)            (512, 512)      \n",
            "G_mapping/Dense2              262656    (?, 512)            (512, 512)      \n",
            "G_mapping/Dense3              262656    (?, 512)            (512, 512)      \n",
            "G_mapping/Dense4              262656    (?, 512)            (512, 512)      \n",
            "G_mapping/Dense5              262656    (?, 512)            (512, 512)      \n",
            "G_mapping/Dense6              262656    (?, 512)            (512, 512)      \n",
            "G_mapping/Dense7              262656    (?, 512)            (512, 512)      \n",
            "G_mapping/Broadcast           -         (?, 16, 512)        -               \n",
            "G_mapping/dlatents_out        -         (?, 16, 512)        -               \n",
            "Truncation/Lerp               -         (?, 16, 512)        -               \n",
            "G_synthesis/dlatents_in       -         (?, 16, 512)        -               \n",
            "G_synthesis/4x4/Const         8192      (?, 512, 4, 4)      (1, 512, 4, 4)  \n",
            "G_synthesis/4x4/Conv          2622465   (?, 512, 4, 4)      (3, 3, 512, 512)\n",
            "G_synthesis/4x4/ToRGB         264195    (?, 3, 4, 4)        (1, 1, 512, 3)  \n",
            "G_synthesis/8x8/Conv0_up      2622465   (?, 512, 8, 8)      (3, 3, 512, 512)\n",
            "G_synthesis/8x8/Conv1         2622465   (?, 512, 8, 8)      (3, 3, 512, 512)\n",
            "G_synthesis/8x8/Upsample      -         (?, 3, 8, 8)        -               \n",
            "G_synthesis/8x8/ToRGB         264195    (?, 3, 8, 8)        (1, 1, 512, 3)  \n",
            "G_synthesis/16x16/Conv0_up    2622465   (?, 512, 16, 16)    (3, 3, 512, 512)\n",
            "G_synthesis/16x16/Conv1       2622465   (?, 512, 16, 16)    (3, 3, 512, 512)\n",
            "G_synthesis/16x16/Upsample    -         (?, 3, 16, 16)      -               \n",
            "G_synthesis/16x16/ToRGB       264195    (?, 3, 16, 16)      (1, 1, 512, 3)  \n",
            "G_synthesis/32x32/Conv0_up    2622465   (?, 512, 32, 32)    (3, 3, 512, 512)\n",
            "G_synthesis/32x32/Conv1       2622465   (?, 512, 32, 32)    (3, 3, 512, 512)\n",
            "G_synthesis/32x32/Upsample    -         (?, 3, 32, 32)      -               \n",
            "G_synthesis/32x32/ToRGB       264195    (?, 3, 32, 32)      (1, 1, 512, 3)  \n",
            "G_synthesis/64x64/Conv0_up    1442561   (?, 256, 64, 64)    (3, 3, 512, 256)\n",
            "G_synthesis/64x64/Conv1       721409    (?, 256, 64, 64)    (3, 3, 256, 256)\n",
            "G_synthesis/64x64/Upsample    -         (?, 3, 64, 64)      -               \n",
            "G_synthesis/64x64/ToRGB       132099    (?, 3, 64, 64)      (1, 1, 256, 3)  \n",
            "G_synthesis/128x128/Conv0_up  426369    (?, 128, 128, 128)  (3, 3, 256, 128)\n",
            "G_synthesis/128x128/Conv1     213249    (?, 128, 128, 128)  (3, 3, 128, 128)\n",
            "G_synthesis/128x128/Upsample  -         (?, 3, 128, 128)    -               \n",
            "G_synthesis/128x128/ToRGB     66051     (?, 3, 128, 128)    (1, 1, 128, 3)  \n",
            "G_synthesis/256x256/Conv0_up  139457    (?, 64, 256, 256)   (3, 3, 128, 64) \n",
            "G_synthesis/256x256/Conv1     69761     (?, 64, 256, 256)   (3, 3, 64, 64)  \n",
            "G_synthesis/256x256/Upsample  -         (?, 3, 256, 256)    -               \n",
            "G_synthesis/256x256/ToRGB     33027     (?, 3, 256, 256)    (1, 1, 64, 3)   \n",
            "G_synthesis/512x512/Conv0_up  51297     (?, 32, 512, 512)   (3, 3, 64, 32)  \n",
            "G_synthesis/512x512/Conv1     25665     (?, 32, 512, 512)   (3, 3, 32, 32)  \n",
            "G_synthesis/512x512/Upsample  -         (?, 3, 512, 512)    -               \n",
            "G_synthesis/512x512/ToRGB     16515     (?, 3, 512, 512)    (1, 1, 32, 3)   \n",
            "G_synthesis/images_out        -         (?, 3, 512, 512)    -               \n",
            "G_synthesis/noise0            -         (1, 1, 4, 4)        -               \n",
            "G_synthesis/noise1            -         (1, 1, 8, 8)        -               \n",
            "G_synthesis/noise2            -         (1, 1, 8, 8)        -               \n",
            "G_synthesis/noise3            -         (1, 1, 16, 16)      -               \n",
            "G_synthesis/noise4            -         (1, 1, 16, 16)      -               \n",
            "G_synthesis/noise5            -         (1, 1, 32, 32)      -               \n",
            "G_synthesis/noise6            -         (1, 1, 32, 32)      -               \n",
            "G_synthesis/noise7            -         (1, 1, 64, 64)      -               \n",
            "G_synthesis/noise8            -         (1, 1, 64, 64)      -               \n",
            "G_synthesis/noise9            -         (1, 1, 128, 128)    -               \n",
            "G_synthesis/noise10           -         (1, 1, 128, 128)    -               \n",
            "G_synthesis/noise11           -         (1, 1, 256, 256)    -               \n",
            "G_synthesis/noise12           -         (1, 1, 256, 256)    -               \n",
            "G_synthesis/noise13           -         (1, 1, 512, 512)    -               \n",
            "G_synthesis/noise14           -         (1, 1, 512, 512)    -               \n",
            "images_out                    -         (?, 3, 512, 512)    -               \n",
            "---                           ---       ---                 ---             \n",
            "Total                         24860935                                      \n",
            "\n",
            "\n",
            "D                    Params    OutputShape         WeightShape     \n",
            "---                  ---       ---                 ---             \n",
            "images_in            -         (?, 3, 512, 512)    -               \n",
            "labels_in            -         (?, 0)              -               \n",
            "512x512/FromRGB      128       (?, 32, 512, 512)   (1, 1, 3, 32)   \n",
            "512x512/Conv0        9248      (?, 32, 512, 512)   (3, 3, 32, 32)  \n",
            "512x512/Conv1_down   18496     (?, 64, 256, 256)   (3, 3, 32, 64)  \n",
            "512x512/Skip         2048      (?, 64, 256, 256)   (1, 1, 32, 64)  \n",
            "256x256/Conv0        36928     (?, 64, 256, 256)   (3, 3, 64, 64)  \n",
            "256x256/Conv1_down   73856     (?, 128, 128, 128)  (3, 3, 64, 128) \n",
            "256x256/Skip         8192      (?, 128, 128, 128)  (1, 1, 64, 128) \n",
            "128x128/Conv0        147584    (?, 128, 128, 128)  (3, 3, 128, 128)\n",
            "128x128/Conv1_down   295168    (?, 256, 64, 64)    (3, 3, 128, 256)\n",
            "128x128/Skip         32768     (?, 256, 64, 64)    (1, 1, 128, 256)\n",
            "64x64/Conv0          590080    (?, 256, 64, 64)    (3, 3, 256, 256)\n",
            "64x64/Conv1_down     1180160   (?, 512, 32, 32)    (3, 3, 256, 512)\n",
            "64x64/Skip           131072    (?, 512, 32, 32)    (1, 1, 256, 512)\n",
            "32x32/Conv0          2359808   (?, 512, 32, 32)    (3, 3, 512, 512)\n",
            "32x32/Conv1_down     2359808   (?, 512, 16, 16)    (3, 3, 512, 512)\n",
            "32x32/Skip           262144    (?, 512, 16, 16)    (1, 1, 512, 512)\n",
            "16x16/Conv0          2359808   (?, 512, 16, 16)    (3, 3, 512, 512)\n",
            "16x16/Conv1_down     2359808   (?, 512, 8, 8)      (3, 3, 512, 512)\n",
            "16x16/Skip           262144    (?, 512, 8, 8)      (1, 1, 512, 512)\n",
            "8x8/Conv0            2359808   (?, 512, 8, 8)      (3, 3, 512, 512)\n",
            "8x8/Conv1_down       2359808   (?, 512, 4, 4)      (3, 3, 512, 512)\n",
            "8x8/Skip             262144    (?, 512, 4, 4)      (1, 1, 512, 512)\n",
            "4x4/MinibatchStddev  -         (?, 513, 4, 4)      -               \n",
            "4x4/Conv             2364416   (?, 512, 4, 4)      (3, 3, 513, 512)\n",
            "4x4/Dense0           4194816   (?, 512)            (8192, 512)     \n",
            "Output               513       (?, 1)              (512, 1)        \n",
            "scores_out           -         (?, 1)              -               \n",
            "---                  ---       ---                 ---             \n",
            "Total                24030753                                      \n",
            "\n",
            "Building TensorFlow graph...\n",
            "Initializing logs...\n",
            "Training for 1000 kimg...\n",
            "\n",
            "tick 0     kimg 0.1      lod 0.00  minibatch 32   time 57s          sec/tick 57.1    sec/kimg 445.90  maintenance 0.0    gpumem 6.1\n",
            "Downloading https://nvlabs-fi-cdn.nvidia.com/stylegan/networks/metrics/inception_v3_features.pkl ... done\n",
            "tcmalloc: large alloc 4294967296 bytes == 0x7f714cfdc000 @  0x7f798f876001 0x7f798c35b67f 0x7f798c3ab978 0x7f798c3af9a7 0x7f798c44dfd3 0x593835 0x548c51 0x5127f1 0x549e0e 0x4bca8a 0x532b86 0x53786a 0x595ef6 0x5134a6 0x549576 0x4bca8a 0x5134a6 0x593dd7 0x511e2c 0x598ef4 0x5998a4 0x511f68 0x549576 0x593fce 0x548ae9 0x5127f1 0x549576 0x4bca8a 0x59c019 0x595ef6 0x5134a6\n",
            "tcmalloc: large alloc 4294967296 bytes == 0x7f704cfdc000 @  0x7f798f8741e7 0x7f798c35b59e 0x7f798c3aba9b 0x7f798c3ac17f 0x7f798c44ded3 0x593835 0x548c51 0x5127f1 0x549576 0x593fce 0x548ae9 0x5127f1 0x549576 0x593fce 0x548ae9 0x5127f1 0x549576 0x593fce 0x548ae9 0x5127f1 0x593dd7 0x5118f8 0x549576 0x593fce 0x548ae9 0x51566f 0x549576 0x593fce 0x548ae9 0x5127f1 0x549e0e\n",
            "tcmalloc: large alloc 4294967296 bytes == 0x7f704cfdc000 @  0x7f798f8741e7 0x7f798c35b59e 0x7f798c3aba9b 0x7f798c3ac17f 0x7f79493a3235 0x7f7948d26792 0x7f7948d26d42 0x7f7948cdfaee 0x59371f 0x548c51 0x51566f 0x593dd7 0x511e2c 0x549e0e 0x4bcb19 0x5134a6 0x549576 0x593fce 0x511e2c 0x549e0e 0x593fce 0x511e2c 0x593dd7 0x511e2c 0x549576 0x4bcb19 0x59c019 0x595ef6 0x5134a6 0x549576 0x593fce\n",
            "network-snapshot-000000        time 30m 27s      fid50k 413.3655\n",
            "tick 1     kimg 6.1      lod 0.00  minibatch 32   time 56m 51s      sec/tick 1502.9  sec/kimg 249.82  maintenance 1850.9 gpumem 6.1\n",
            "tick 2     kimg 12.2     lod 0.00  minibatch 32   time 1h 21m 59s   sec/tick 1507.6  sec/kimg 250.59  maintenance 0.0    gpumem 6.1\n",
            "tick 3     kimg 18.2     lod 0.00  minibatch 32   time 1h 47m 06s   sec/tick 1507.0  sec/kimg 250.50  maintenance 0.0    gpumem 6.1\n",
            "tick 4     kimg 24.2     lod 0.00  minibatch 32   time 2h 12m 13s   sec/tick 1507.4  sec/kimg 250.57  maintenance 0.0    gpumem 6.1\n",
            "tick 5     kimg 30.2     lod 0.00  minibatch 32   time 2h 37m 18s   sec/tick 1505.1  sec/kimg 250.19  maintenance 0.0    gpumem 6.1\n",
            "tick 6     kimg 36.2     lod 0.00  minibatch 32   time 3h 02m 34s   sec/tick 1516.1  sec/kimg 252.00  maintenance 0.0    gpumem 6.1\n",
            "tick 7     kimg 42.2     lod 0.00  minibatch 32   time 3h 28m 12s   sec/tick 1537.6  sec/kimg 255.58  maintenance 0.0    gpumem 6.1\n",
            "tick 8     kimg 48.3     lod 0.00  minibatch 32   time 3h 53m 53s   sec/tick 1541.4  sec/kimg 256.22  maintenance 0.0    gpumem 6.1\n",
            "tick 9     kimg 54.3     lod 0.00  minibatch 32   time 4h 19m 31s   sec/tick 1538.2  sec/kimg 255.69  maintenance 0.0    gpumem 6.1\n",
            "tick 10    kimg 60.3     lod 0.00  minibatch 32   time 4h 45m 12s   sec/tick 1540.8  sec/kimg 256.12  maintenance 0.0    gpumem 6.1\n",
            "tcmalloc: large alloc 4294967296 bytes == 0x7f70aa968000 @  0x7f798f876001 0x7f798c35b67f 0x7f798c3ab978 0x7f798c3af9a7 0x7f798c44dfd3 0x593835 0x548c51 0x5127f1 0x549e0e 0x4bca8a 0x532b86 0x53786a 0x595ef6 0x5134a6 0x549576 0x4bca8a 0x5134a6 0x593dd7 0x511e2c 0x593dd7 0x511e2c 0x549576 0x593fce 0x548ae9 0x5127f1 0x549576 0x4bca8a 0x59c019 0x595ef6 0x5134a6 0x549576\n",
            "tcmalloc: large alloc 4294967296 bytes == 0x7f6f3e6d2000 @  0x7f798f8741e7 0x7f798c35b59e 0x7f798c3aba9b 0x7f798c3ac17f 0x7f798c44ded3 0x593835 0x548c51 0x5127f1 0x549576 0x593fce 0x548ae9 0x5127f1 0x549576 0x593fce 0x548ae9 0x5127f1 0x549576 0x593fce 0x548ae9 0x5127f1 0x593dd7 0x5118f8 0x549576 0x593fce 0x548ae9 0x51566f 0x549576 0x593fce 0x548ae9 0x5127f1 0x549e0e\n",
            "tcmalloc: large alloc 4294967296 bytes == 0x7f6f3e6d2000 @  0x7f798f8741e7 0x7f798c35b59e 0x7f798c3aba9b 0x7f798c3ac17f 0x7f79493a3235 0x7f7948d26792 0x7f7948d26d42 0x7f7948cdfaee 0x59371f 0x548c51 0x51566f 0x593dd7 0x511e2c 0x549e0e 0x4bcb19 0x5134a6 0x549576 0x593fce 0x511e2c 0x549e0e 0x593fce 0x511e2c 0x593dd7 0x511e2c 0x549576 0x4bcb19 0x59c019 0x595ef6 0x5134a6 0x549576 0x593fce\n",
            "network-snapshot-000060        time 25m 23s      fid50k 362.1448\n",
            "tick 11    kimg 66.3     lod 0.00  minibatch 32   time 5h 36m 36s   sec/tick 1541.0  sec/kimg 256.15  maintenance 1543.1 gpumem 6.1\n",
            "tick 12    kimg 72.3     lod 0.00  minibatch 32   time 6h 02m 18s   sec/tick 1541.8  sec/kimg 256.28  maintenance 0.0    gpumem 6.1\n",
            "tick 13    kimg 78.3     lod 0.00  minibatch 32   time 6h 27m 55s   sec/tick 1536.9  sec/kimg 255.46  maintenance 0.0    gpumem 6.1\n",
            "tick 14    kimg 84.4     lod 0.00  minibatch 32   time 6h 53m 37s   sec/tick 1541.9  sec/kimg 256.30  maintenance 0.0    gpumem 6.1\n",
            "tick 15    kimg 90.4     lod 0.00  minibatch 32   time 7h 19m 18s   sec/tick 1541.4  sec/kimg 256.22  maintenance 0.0    gpumem 6.1\n",
            "tick 16    kimg 96.4     lod 0.00  minibatch 32   time 7h 44m 59s   sec/tick 1541.0  sec/kimg 256.15  maintenance 0.0    gpumem 6.1\n",
            "tick 17    kimg 102.4    lod 0.00  minibatch 32   time 8h 10m 36s   sec/tick 1536.9  sec/kimg 255.47  maintenance 0.0    gpumem 6.1\n",
            "tick 18    kimg 108.4    lod 0.00  minibatch 32   time 8h 36m 17s   sec/tick 1540.8  sec/kimg 256.11  maintenance 0.0    gpumem 6.1\n",
            "tick 19    kimg 114.4    lod 0.00  minibatch 32   time 9h 01m 57s   sec/tick 1540.0  sec/kimg 255.98  maintenance 0.0    gpumem 6.1\n",
            "tick 20    kimg 120.4    lod 0.00  minibatch 32   time 9h 27m 39s   sec/tick 1541.8  sec/kimg 256.28  maintenance 0.0    gpumem 6.1\n",
            "tcmalloc: large alloc 4294967296 bytes == 0x7f6f3e6d2000 @  0x7f798f876001 0x7f798c35b67f 0x7f798c3ab978 0x7f798c3af9a7 0x7f798c44dfd3 0x593835 0x548c51 0x5127f1 0x549e0e 0x4bca8a 0x532b86 0x53786a 0x595ef6 0x5134a6 0x549576 0x4bca8a 0x5134a6 0x593dd7 0x511e2c 0x593dd7 0x511e2c 0x549576 0x593fce 0x548ae9 0x5127f1 0x549576 0x4bca8a 0x59c019 0x595ef6 0x5134a6 0x549576\n",
            "tcmalloc: large alloc 4294967296 bytes == 0x7f70922c8000 @  0x7f798f8741e7 0x7f798c35b59e 0x7f798c3aba9b 0x7f798c3ac17f 0x7f798c44ded3 0x593835 0x548c51 0x5127f1 0x549576 0x593fce 0x548ae9 0x5127f1 0x549576 0x593fce 0x548ae9 0x5127f1 0x549576 0x593fce 0x548ae9 0x5127f1 0x593dd7 0x5118f8 0x549576 0x593fce 0x548ae9 0x51566f 0x549576 0x593fce 0x548ae9 0x5127f1 0x549e0e\n",
            "tcmalloc: large alloc 4294967296 bytes == 0x7f70922c8000 @  0x7f798f8741e7 0x7f798c35b59e 0x7f798c3aba9b 0x7f798c3ac17f 0x7f79493a3235 0x7f7948d26792 0x7f7948d26d42 0x7f7948cdfaee 0x59371f 0x548c51 0x51566f 0x593dd7 0x511e2c 0x549e0e 0x4bcb19 0x5134a6 0x549576 0x593fce 0x511e2c 0x549e0e 0x593fce 0x511e2c 0x593dd7 0x511e2c 0x549576 0x4bcb19 0x59c019 0x595ef6 0x5134a6 0x549576 0x593fce\n",
            "network-snapshot-000120        time 25m 45s      fid50k 228.2019\n",
            "tick 21    kimg 126.5    lod 0.00  minibatch 32   time 10h 19m 20s  sec/tick 1538.5  sec/kimg 255.73  maintenance 1562.9 gpumem 6.1\n",
            "tick 22    kimg 132.5    lod 0.00  minibatch 32   time 10h 45m 04s  sec/tick 1544.0  sec/kimg 256.65  maintenance 0.0    gpumem 6.1\n",
            "tick 23    kimg 138.5    lod 0.00  minibatch 32   time 11h 10m 47s  sec/tick 1543.1  sec/kimg 256.50  maintenance 0.0    gpumem 6.1\n",
            "tick 24    kimg 144.5    lod 0.00  minibatch 32   time 11h 36m 30s  sec/tick 1542.4  sec/kimg 256.39  maintenance 0.0    gpumem 6.1\n",
            "tick 25    kimg 150.5    lod 0.00  minibatch 32   time 12h 02m 09s  sec/tick 1539.5  sec/kimg 255.91  maintenance 0.0    gpumem 6.1\n",
            "tick 26    kimg 156.5    lod 0.00  minibatch 32   time 12h 27m 52s  sec/tick 1542.8  sec/kimg 256.45  maintenance 0.0    gpumem 6.1\n",
            "tick 27    kimg 162.6    lod 0.00  minibatch 32   time 12h 53m 34s  sec/tick 1542.4  sec/kimg 256.38  maintenance 0.0    gpumem 6.1\n",
            "tick 28    kimg 168.6    lod 0.00  minibatch 32   time 13h 19m 17s  sec/tick 1543.0  sec/kimg 256.48  maintenance 0.0    gpumem 6.1\n",
            "tick 29    kimg 174.6    lod 0.00  minibatch 32   time 13h 44m 57s  sec/tick 1539.9  sec/kimg 255.96  maintenance 0.0    gpumem 6.1\n",
            "tick 30    kimg 180.6    lod 0.00  minibatch 32   time 14h 10m 40s  sec/tick 1543.1  sec/kimg 256.50  maintenance 0.0    gpumem 6.1\n",
            "network-snapshot-000180        time 25m 19s      fid50k 197.4239\n",
            "tick 31    kimg 186.6    lod 0.00  minibatch 32   time 15h 01m 58s  sec/tick 1541.4  sec/kimg 256.22  maintenance 1535.9 gpumem 6.1\n",
            "tick 32    kimg 192.6    lod 0.00  minibatch 32   time 15h 27m 40s  sec/tick 1542.0  sec/kimg 256.32  maintenance 0.0    gpumem 6.1\n",
            "tick 33    kimg 198.7    lod 0.00  minibatch 32   time 15h 53m 19s  sec/tick 1539.3  sec/kimg 255.87  maintenance 0.0    gpumem 6.1\n",
            "tick 34    kimg 204.7    lod 0.00  minibatch 32   time 16h 19m 01s  sec/tick 1542.2  sec/kimg 256.36  maintenance 0.0    gpumem 6.1\n",
            "tick 35    kimg 210.7    lod 0.00  minibatch 32   time 16h 44m 43s  sec/tick 1541.4  sec/kimg 256.22  maintenance 0.0    gpumem 6.1\n",
            "tick 36    kimg 216.7    lod 0.00  minibatch 32   time 17h 10m 25s  sec/tick 1541.8  sec/kimg 256.28  maintenance 0.0    gpumem 6.1\n",
            "tick 37    kimg 222.7    lod 0.00  minibatch 32   time 17h 36m 04s  sec/tick 1539.0  sec/kimg 255.82  maintenance 0.0    gpumem 6.1\n",
            "tick 38    kimg 228.7    lod 0.00  minibatch 32   time 18h 01m 46s  sec/tick 1542.4  sec/kimg 256.39  maintenance 0.0    gpumem 6.1\n",
            "tick 39    kimg 234.8    lod 0.00  minibatch 32   time 18h 27m 29s  sec/tick 1542.9  sec/kimg 256.47  maintenance 0.0    gpumem 6.1\n",
            "tick 40    kimg 240.8    lod 0.00  minibatch 32   time 18h 53m 11s  sec/tick 1542.4  sec/kimg 256.39  maintenance 0.0    gpumem 6.1\n",
            "network-snapshot-000240        time 25m 21s      fid50k 170.7988\n"
          ]
        }
      ],
      "source": [
        "!python run_training.py --num-gpus=1 --data-dir=/content/stylegan2 --config=config-e --dataset=road-512 --total-kimg 1000 --gamma=100"
      ]
    },
    {
      "cell_type": "markdown",
      "metadata": {
        "id": "qu4qm6bb7h9Y"
      },
      "source": [
        "## Train"
      ]
    },
    {
      "cell_type": "code",
      "execution_count": null,
      "metadata": {
        "id": "ogPRzusv7iuT"
      },
      "outputs": [],
      "source": [
        "!pip install tensorflow==2.3.0"
      ]
    },
    {
      "cell_type": "code",
      "execution_count": null,
      "metadata": {
        "colab": {
          "base_uri": "https://localhost:8080/"
        },
        "id": "_GKy0k2iA_r7",
        "outputId": "9e924d5c-b86f-4a5e-b43b-7a28cb123974"
      },
      "outputs": [
        {
          "name": "stdout",
          "output_type": "stream",
          "text": [
            "Tue Apr  5 12:24:15 2022       \n",
            "+-----------------------------------------------------------------------------+\n",
            "| NVIDIA-SMI 460.32.03    Driver Version: 460.32.03    CUDA Version: 11.2     |\n",
            "|-------------------------------+----------------------+----------------------+\n",
            "| GPU  Name        Persistence-M| Bus-Id        Disp.A | Volatile Uncorr. ECC |\n",
            "| Fan  Temp  Perf  Pwr:Usage/Cap|         Memory-Usage | GPU-Util  Compute M. |\n",
            "|                               |                      |               MIG M. |\n",
            "|===============================+======================+======================|\n",
            "|   0  Tesla P100-PCIE...  Off  | 00000000:00:04.0 Off |                    0 |\n",
            "| N/A   35C    P0    27W / 250W |      0MiB / 16280MiB |      0%      Default |\n",
            "|                               |                      |                  N/A |\n",
            "+-------------------------------+----------------------+----------------------+\n",
            "                                                                               \n",
            "+-----------------------------------------------------------------------------+\n",
            "| Processes:                                                                  |\n",
            "|  GPU   GI   CI        PID   Type   Process name                  GPU Memory |\n",
            "|        ID   ID                                                   Usage      |\n",
            "|=============================================================================|\n",
            "|  No running processes found                                                 |\n",
            "+-----------------------------------------------------------------------------+\n"
          ]
        }
      ],
      "source": [
        "gpu_info = !nvidia-smi\n",
        "gpu_info = '\\n'.join(gpu_info)\n",
        "if gpu_info.find('failed') >= 0:\n",
        "  print('Not connected to a GPU')\n",
        "else:\n",
        "  print(gpu_info)"
      ]
    },
    {
      "cell_type": "code",
      "execution_count": null,
      "metadata": {
        "colab": {
          "base_uri": "https://localhost:8080/"
        },
        "id": "IIAkxAu874ED",
        "outputId": "2254d485-1af4-4a00-f539-3757ce2ddd37"
      },
      "outputs": [
        {
          "name": "stdout",
          "output_type": "stream",
          "text": [
            "2.3.0\n",
            "WARNING:tensorflow:From <ipython-input-1-f82d68d7cf6c>:3: is_gpu_available (from tensorflow.python.framework.test_util) is deprecated and will be removed in a future version.\n",
            "Instructions for updating:\n",
            "Use `tf.config.list_physical_devices('GPU')` instead.\n",
            "True\n",
            "True\n"
          ]
        }
      ],
      "source": [
        "import tensorflow as tf\n",
        "print(tf.__version__)\n",
        "print(tf.test.is_gpu_available())\n",
        "print(tf.test.is_built_with_cuda())"
      ]
    },
    {
      "cell_type": "code",
      "execution_count": null,
      "metadata": {
        "id": "aWNuZp0H76vO"
      },
      "outputs": [],
      "source": [
        "!cp -av /content/stylegan2/dataset/space-1024-tfrecord /content/stylegan2-tf-2.x/tfrecords/"
      ]
    },
    {
      "cell_type": "code",
      "execution_count": null,
      "metadata": {
        "colab": {
          "base_uri": "https://localhost:8080/"
        },
        "id": "gM-Oh5my8SXC",
        "outputId": "b134d9e4-f14f-4989-b338-fd4d38ebf8fb"
      },
      "outputs": [
        {
          "name": "stdout",
          "output_type": "stream",
          "text": [
            "/content/stylegan2-tf-2.x\n"
          ]
        }
      ],
      "source": [
        "%cd stylegan2-tf-2.x/"
      ]
    },
    {
      "cell_type": "code",
      "execution_count": null,
      "metadata": {
        "colab": {
          "base_uri": "https://localhost:8080/"
        },
        "id": "Z466RiryGATh",
        "outputId": "c7089cc8-960a-4546-9cf1-bbd0e3a01831"
      },
      "outputs": [
        {
          "name": "stdout",
          "output_type": "stream",
          "text": [
            "/content\n"
          ]
        }
      ],
      "source": [
        "%cd .."
      ]
    },
    {
      "cell_type": "code",
      "execution_count": null,
      "metadata": {
        "colab": {
          "base_uri": "https://localhost:8080/"
        },
        "id": "c--vafv7GAVm",
        "outputId": "3d258189-79e4-4ee8-838d-28609df9764e"
      },
      "outputs": [
        {
          "name": "stdout",
          "output_type": "stream",
          "text": [
            "Cloning into 'ffhq-dataset'...\n",
            "remote: Enumerating objects: 70, done.\u001b[K\n",
            "remote: Counting objects: 100% (10/10), done.\u001b[K\n",
            "remote: Compressing objects: 100% (8/8), done.\u001b[K\n",
            "remote: Total 70 (delta 4), reused 4 (delta 2), pack-reused 60\u001b[K\n",
            "Unpacking objects: 100% (70/70), done.\n",
            "/content/ffhq-dataset\n",
            "Downloading JSON metadata...\n",
            "|   0.00% done  1/2 files  0.00/0.25 GB   0.00 B/s    ETA: ...     Traceback (most recent call last):\n",
            "  File \"download_ffhq.py\", line 445, in <module>\n",
            "    run_cmdline(sys.argv)\n",
            "  File \"download_ffhq.py\", line 440, in run_cmdline\n",
            "    run(**vars(args))\n",
            "  File \"download_ffhq.py\", line 387, in run\n",
            "    download_files([json_spec, license_specs['json']], **download_kwargs)\n",
            "  File \"download_ffhq.py\", line 205, in download_files\n",
            "    raise exc_info[1].with_traceback(exc_info[2])\n",
            "  File \"download_ffhq.py\", line 214, in _download_thread\n",
            "    download_file(session, spec, stats, **download_kwargs)\n",
            "  File \"download_ffhq.py\", line 84, in download_file\n",
            "    raise IOError('Incorrect file size', file_path)\n",
            "OSError: [Errno Incorrect file size] ffhq-dataset-v2.json\n"
          ]
        }
      ],
      "source": [
        "!git clone https://github.com/NVlabs/ffhq-dataset.git\n",
        "%cd ffhq-dataset\n",
        "!python download_ffhq.py --tfrecords"
      ]
    },
    {
      "cell_type": "code",
      "execution_count": null,
      "metadata": {
        "colab": {
          "base_uri": "https://localhost:8080/"
        },
        "id": "J7xSKDl08n4M",
        "outputId": "57ab80f9-21f4-4f3f-b122-aff6bc0f4321"
      },
      "outputs": [
        {
          "name": "stdout",
          "output_type": "stream",
          "text": [
            "2022-04-04 23:55:50.483917: I tensorflow/stream_executor/platform/default/dso_loader.cc:48] Successfully opened dynamic library libcudart.so.10.1\n",
            "Tensorflow version: 2.3.0\n",
            "2022-04-04 23:55:53.654253: I tensorflow/stream_executor/platform/default/dso_loader.cc:48] Successfully opened dynamic library libcuda.so.1\n",
            "2022-04-04 23:55:53.667781: I tensorflow/stream_executor/cuda/cuda_gpu_executor.cc:982] successful NUMA node read from SysFS had negative value (-1), but there must be at least one NUMA node, so returning NUMA node zero\n",
            "2022-04-04 23:55:53.668647: I tensorflow/core/common_runtime/gpu/gpu_device.cc:1716] Found device 0 with properties: \n",
            "pciBusID: 0000:00:04.0 name: Tesla P100-PCIE-16GB computeCapability: 6.0\n",
            "coreClock: 1.3285GHz coreCount: 56 deviceMemorySize: 15.90GiB deviceMemoryBandwidth: 681.88GiB/s\n",
            "2022-04-04 23:55:53.668699: I tensorflow/stream_executor/platform/default/dso_loader.cc:48] Successfully opened dynamic library libcudart.so.10.1\n",
            "2022-04-04 23:55:53.676556: I tensorflow/stream_executor/platform/default/dso_loader.cc:48] Successfully opened dynamic library libcublas.so.10\n",
            "2022-04-04 23:55:53.677870: I tensorflow/stream_executor/platform/default/dso_loader.cc:48] Successfully opened dynamic library libcufft.so.10\n",
            "2022-04-04 23:55:53.678273: I tensorflow/stream_executor/platform/default/dso_loader.cc:48] Successfully opened dynamic library libcurand.so.10\n",
            "2022-04-04 23:55:53.683869: I tensorflow/stream_executor/platform/default/dso_loader.cc:48] Successfully opened dynamic library libcusolver.so.10\n",
            "2022-04-04 23:55:53.685209: I tensorflow/stream_executor/platform/default/dso_loader.cc:48] Successfully opened dynamic library libcusparse.so.10\n",
            "2022-04-04 23:55:53.701803: I tensorflow/stream_executor/platform/default/dso_loader.cc:48] Successfully opened dynamic library libcudnn.so.7\n",
            "2022-04-04 23:55:53.701966: I tensorflow/stream_executor/cuda/cuda_gpu_executor.cc:982] successful NUMA node read from SysFS had negative value (-1), but there must be at least one NUMA node, so returning NUMA node zero\n",
            "2022-04-04 23:55:53.702947: I tensorflow/stream_executor/cuda/cuda_gpu_executor.cc:982] successful NUMA node read from SysFS had negative value (-1), but there must be at least one NUMA node, so returning NUMA node zero\n",
            "2022-04-04 23:55:53.703755: I tensorflow/core/common_runtime/gpu/gpu_device.cc:1858] Adding visible gpu devices: 0\n",
            "2022-04-04 23:55:53.710366: I tensorflow/core/platform/cpu_feature_guard.cc:142] This TensorFlow binary is optimized with oneAPI Deep Neural Network Library (oneDNN)to use the following CPU instructions in performance-critical operations:  AVX2 AVX512F FMA\n",
            "To enable them in other operations, rebuild TensorFlow with the appropriate compiler flags.\n",
            "2022-04-04 23:55:53.736207: I tensorflow/core/platform/profile_utils/cpu_utils.cc:104] CPU Frequency: 2000185000 Hz\n",
            "2022-04-04 23:55:53.740561: I tensorflow/compiler/xla/service/service.cc:168] XLA service 0x55ab63015100 initialized for platform Host (this does not guarantee that XLA will be used). Devices:\n",
            "2022-04-04 23:55:53.740598: I tensorflow/compiler/xla/service/service.cc:176]   StreamExecutor device (0): Host, Default Version\n",
            "2022-04-04 23:55:53.906545: I tensorflow/stream_executor/cuda/cuda_gpu_executor.cc:982] successful NUMA node read from SysFS had negative value (-1), but there must be at least one NUMA node, so returning NUMA node zero\n",
            "2022-04-04 23:55:53.907764: I tensorflow/compiler/xla/service/service.cc:168] XLA service 0x55ab630152c0 initialized for platform CUDA (this does not guarantee that XLA will be used). Devices:\n",
            "2022-04-04 23:55:53.907807: I tensorflow/compiler/xla/service/service.cc:176]   StreamExecutor device (0): Tesla P100-PCIE-16GB, Compute Capability 6.0\n",
            "2022-04-04 23:55:53.908126: I tensorflow/stream_executor/cuda/cuda_gpu_executor.cc:982] successful NUMA node read from SysFS had negative value (-1), but there must be at least one NUMA node, so returning NUMA node zero\n",
            "2022-04-04 23:55:53.908951: I tensorflow/core/common_runtime/gpu/gpu_device.cc:1716] Found device 0 with properties: \n",
            "pciBusID: 0000:00:04.0 name: Tesla P100-PCIE-16GB computeCapability: 6.0\n",
            "coreClock: 1.3285GHz coreCount: 56 deviceMemorySize: 15.90GiB deviceMemoryBandwidth: 681.88GiB/s\n",
            "2022-04-04 23:55:53.909023: I tensorflow/stream_executor/platform/default/dso_loader.cc:48] Successfully opened dynamic library libcudart.so.10.1\n",
            "2022-04-04 23:55:53.909090: I tensorflow/stream_executor/platform/default/dso_loader.cc:48] Successfully opened dynamic library libcublas.so.10\n",
            "2022-04-04 23:55:53.909127: I tensorflow/stream_executor/platform/default/dso_loader.cc:48] Successfully opened dynamic library libcufft.so.10\n",
            "2022-04-04 23:55:53.909156: I tensorflow/stream_executor/platform/default/dso_loader.cc:48] Successfully opened dynamic library libcurand.so.10\n",
            "2022-04-04 23:55:53.909179: I tensorflow/stream_executor/platform/default/dso_loader.cc:48] Successfully opened dynamic library libcusolver.so.10\n",
            "2022-04-04 23:55:53.909199: I tensorflow/stream_executor/platform/default/dso_loader.cc:48] Successfully opened dynamic library libcusparse.so.10\n",
            "2022-04-04 23:55:53.909222: I tensorflow/stream_executor/platform/default/dso_loader.cc:48] Successfully opened dynamic library libcudnn.so.7\n",
            "2022-04-04 23:55:53.909314: I tensorflow/stream_executor/cuda/cuda_gpu_executor.cc:982] successful NUMA node read from SysFS had negative value (-1), but there must be at least one NUMA node, so returning NUMA node zero\n",
            "2022-04-04 23:55:53.910163: I tensorflow/stream_executor/cuda/cuda_gpu_executor.cc:982] successful NUMA node read from SysFS had negative value (-1), but there must be at least one NUMA node, so returning NUMA node zero\n",
            "2022-04-04 23:55:53.910934: I tensorflow/core/common_runtime/gpu/gpu_device.cc:1858] Adding visible gpu devices: 0\n",
            "2022-04-04 23:55:53.911016: I tensorflow/stream_executor/platform/default/dso_loader.cc:48] Successfully opened dynamic library libcudart.so.10.1\n",
            "2022-04-04 23:55:54.761434: I tensorflow/core/common_runtime/gpu/gpu_device.cc:1257] Device interconnect StreamExecutor with strength 1 edge matrix:\n",
            "2022-04-04 23:55:54.761502: I tensorflow/core/common_runtime/gpu/gpu_device.cc:1263]      0 \n",
            "2022-04-04 23:55:54.761523: I tensorflow/core/common_runtime/gpu/gpu_device.cc:1276] 0:   N \n",
            "2022-04-04 23:55:54.761782: I tensorflow/stream_executor/cuda/cuda_gpu_executor.cc:982] successful NUMA node read from SysFS had negative value (-1), but there must be at least one NUMA node, so returning NUMA node zero\n",
            "2022-04-04 23:55:54.762744: I tensorflow/stream_executor/cuda/cuda_gpu_executor.cc:982] successful NUMA node read from SysFS had negative value (-1), but there must be at least one NUMA node, so returning NUMA node zero\n",
            "2022-04-04 23:55:54.763571: I tensorflow/core/common_runtime/gpu/gpu_device.cc:1402] Created TensorFlow device (/job:localhost/replica:0/task:0/device:GPU:0 with 14613 MB memory) -> physical GPU (device: 0, name: Tesla P100-PCIE-16GB, pci bus id: 0000:00:04.0, compute capability: 6.0)\n",
            "1 Physical GPUs, 1 Logical GPUs\n",
            "2022-04-04 23:55:55.328754: I tensorflow/stream_executor/platform/default/dso_loader.cc:48] Successfully opened dynamic library libcudnn.so.7\n",
            "2022-04-04 23:55:58.284586: I tensorflow/stream_executor/platform/default/dso_loader.cc:48] Successfully opened dynamic library libcublas.so.10\n",
            "Setting up TensorFlow plugin \"upfirdn_2d.cu\": Preprocessing... 2022-04-04 23:56:01.581847: I tensorflow/stream_executor/cuda/cuda_gpu_executor.cc:982] successful NUMA node read from SysFS had negative value (-1), but there must be at least one NUMA node, so returning NUMA node zero\n",
            "2022-04-04 23:56:01.582713: I tensorflow/core/common_runtime/gpu/gpu_device.cc:1716] Found device 0 with properties: \n",
            "pciBusID: 0000:00:04.0 name: Tesla P100-PCIE-16GB computeCapability: 6.0\n",
            "coreClock: 1.3285GHz coreCount: 56 deviceMemorySize: 15.90GiB deviceMemoryBandwidth: 681.88GiB/s\n",
            "2022-04-04 23:56:01.582803: I tensorflow/stream_executor/platform/default/dso_loader.cc:48] Successfully opened dynamic library libcudart.so.10.1\n",
            "2022-04-04 23:56:01.582875: I tensorflow/stream_executor/platform/default/dso_loader.cc:48] Successfully opened dynamic library libcublas.so.10\n",
            "2022-04-04 23:56:01.582905: I tensorflow/stream_executor/platform/default/dso_loader.cc:48] Successfully opened dynamic library libcufft.so.10\n",
            "2022-04-04 23:56:01.582931: I tensorflow/stream_executor/platform/default/dso_loader.cc:48] Successfully opened dynamic library libcurand.so.10\n",
            "2022-04-04 23:56:01.582953: I tensorflow/stream_executor/platform/default/dso_loader.cc:48] Successfully opened dynamic library libcusolver.so.10\n",
            "2022-04-04 23:56:01.582975: I tensorflow/stream_executor/platform/default/dso_loader.cc:48] Successfully opened dynamic library libcusparse.so.10\n",
            "2022-04-04 23:56:01.582997: I tensorflow/stream_executor/platform/default/dso_loader.cc:48] Successfully opened dynamic library libcudnn.so.7\n",
            "2022-04-04 23:56:01.583099: I tensorflow/stream_executor/cuda/cuda_gpu_executor.cc:982] successful NUMA node read from SysFS had negative value (-1), but there must be at least one NUMA node, so returning NUMA node zero\n",
            "2022-04-04 23:56:01.584012: I tensorflow/stream_executor/cuda/cuda_gpu_executor.cc:982] successful NUMA node read from SysFS had negative value (-1), but there must be at least one NUMA node, so returning NUMA node zero\n",
            "2022-04-04 23:56:01.584722: I tensorflow/core/common_runtime/gpu/gpu_device.cc:1858] Adding visible gpu devices: 0\n",
            "2022-04-04 23:56:01.584794: I tensorflow/core/common_runtime/gpu/gpu_device.cc:1257] Device interconnect StreamExecutor with strength 1 edge matrix:\n",
            "2022-04-04 23:56:01.584815: I tensorflow/core/common_runtime/gpu/gpu_device.cc:1263]      0 \n",
            "2022-04-04 23:56:01.584831: I tensorflow/core/common_runtime/gpu/gpu_device.cc:1276] 0:   N \n",
            "2022-04-04 23:56:01.584972: I tensorflow/stream_executor/cuda/cuda_gpu_executor.cc:982] successful NUMA node read from SysFS had negative value (-1), but there must be at least one NUMA node, so returning NUMA node zero\n",
            "2022-04-04 23:56:01.585726: I tensorflow/stream_executor/cuda/cuda_gpu_executor.cc:982] successful NUMA node read from SysFS had negative value (-1), but there must be at least one NUMA node, so returning NUMA node zero\n",
            "2022-04-04 23:56:01.586432: I tensorflow/core/common_runtime/gpu/gpu_device.cc:1402] Created TensorFlow device (/device:GPU:0 with 14613 MB memory) -> physical GPU (device: 0, name: Tesla P100-PCIE-16GB, pci bus id: 0000:00:04.0, compute capability: 6.0)\n",
            "Loading... Done.\n",
            "Not restoring from saved checkpoint\n",
            "Start Training\n",
            "max_steps: 782\n",
            "WARNING:tensorflow:From /usr/local/lib/python3.7/dist-packages/tensorflow/python/data/ops/multi_device_iterator_ops.py:601: get_next_as_optional (from tensorflow.python.data.ops.iterator_ops) is deprecated and will be removed in a future version.\n",
            "Instructions for updating:\n",
            "Use `tf.data.Iterator.get_next_as_optional()` instead.\n",
            "2022-04-04 23:56:14.755506: I tensorflow/core/kernels/data/shuffle_dataset_op.cc:172] Filling up shuffle buffer (this may take a while): 476 of 1000\n",
            "^C\n"
          ]
        }
      ],
      "source": [
        "!python train.py "
      ]
    }
  ],
  "metadata": {
    "accelerator": "GPU",
    "colab": {
      "collapsed_sections": [],
      "machine_shape": "hm",
      "name": "train_stylegan2.ipynb",
      "provenance": [],
      "include_colab_link": true
    },
    "kernelspec": {
      "display_name": "Python 3",
      "name": "python3"
    },
    "language_info": {
      "name": "python"
    }
  },
  "nbformat": 4,
  "nbformat_minor": 0
}